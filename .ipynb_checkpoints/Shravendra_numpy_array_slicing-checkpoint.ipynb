{
 "cells": [
  {
   "cell_type": "code",
   "execution_count": 1,
   "id": "076ddc4e",
   "metadata": {},
   "outputs": [],
   "source": [
    "import numpy as np"
   ]
  },
  {
   "cell_type": "code",
   "execution_count": 2,
   "id": "db9f862a",
   "metadata": {},
   "outputs": [
    {
     "data": {
      "text/plain": [
       "array([[[21, 22, 23, 24, 25],\n",
       "        [26, 27, 28, 29, 30],\n",
       "        [31, 32, 33, 34, 35],\n",
       "        [36, 37, 38, 39, 40]],\n",
       "\n",
       "       [[41, 42, 43, 44, 45],\n",
       "        [46, 47, 48, 49, 50],\n",
       "        [51, 52, 53, 54, 55],\n",
       "        [56, 57, 58, 59, 60]],\n",
       "\n",
       "       [[61, 62, 63, 64, 65],\n",
       "        [66, 67, 68, 69, 70],\n",
       "        [71, 72, 73, 74, 75],\n",
       "        [76, 77, 78, 79, 80]]])"
      ]
     },
     "execution_count": 2,
     "metadata": {},
     "output_type": "execute_result"
    }
   ],
   "source": [
    "arr = np.arange(21, 81).reshape(3, 4, 5)\n",
    "arr"
   ]
  },
  {
   "cell_type": "code",
   "execution_count": 3,
   "id": "31645981",
   "metadata": {},
   "outputs": [
    {
     "data": {
      "text/plain": [
       "array([[[21, 22, 23, 24, 25]],\n",
       "\n",
       "       [[41, 42, 43, 44, 45]],\n",
       "\n",
       "       [[61, 62, 63, 64, 65]]])"
      ]
     },
     "execution_count": 3,
     "metadata": {},
     "output_type": "execute_result"
    }
   ],
   "source": [
    "#1. Access only 1st row of each matrix.\n",
    "arr[:, [0]]"
   ]
  },
  {
   "cell_type": "code",
   "execution_count": 4,
   "id": "37b17015",
   "metadata": {},
   "outputs": [
    {
     "data": {
      "text/plain": [
       "array([[22, 27, 32, 37],\n",
       "       [42, 47, 52, 57],\n",
       "       [62, 67, 72, 77]])"
      ]
     },
     "execution_count": 4,
     "metadata": {},
     "output_type": "execute_result"
    }
   ],
   "source": [
    "#2. Access only 2nd column of each matrix.\n",
    "arr[0 : 3, 0:, 1]"
   ]
  },
  {
   "cell_type": "code",
   "execution_count": 7,
   "id": "e2a9e71e",
   "metadata": {},
   "outputs": [
    {
     "data": {
      "text/plain": [
       "array([[[22],\n",
       "        [27],\n",
       "        [32],\n",
       "        [37]],\n",
       "\n",
       "       [[42],\n",
       "        [47],\n",
       "        [52],\n",
       "        [57]],\n",
       "\n",
       "       [[62],\n",
       "        [67],\n",
       "        [72],\n",
       "        [77]]])"
      ]
     },
     "execution_count": 7,
     "metadata": {},
     "output_type": "execute_result"
    }
   ],
   "source": [
    "#2.(another method) Access only 2nd column of each matrix.\n",
    "arr[ :, :, 1:2]"
   ]
  },
  {
   "cell_type": "code",
   "execution_count": 5,
   "id": "7f65f774",
   "metadata": {},
   "outputs": [
    {
     "data": {
      "text/plain": [
       "array([[[21, 22, 23],\n",
       "        [26, 27, 28],\n",
       "        [31, 32, 33],\n",
       "        [36, 37, 38]],\n",
       "\n",
       "       [[61, 62, 63],\n",
       "        [66, 67, 68],\n",
       "        [71, 72, 73],\n",
       "        [76, 77, 78]]])"
      ]
     },
     "execution_count": 5,
     "metadata": {},
     "output_type": "execute_result"
    }
   ],
   "source": [
    "#3. Access only 1st 3 column and all rows of 1st and 3rd matrix.\n",
    "arr[0:3:2, 0:4, 0:3]"
   ]
  },
  {
   "cell_type": "code",
   "execution_count": 6,
   "id": "99d87f89",
   "metadata": {},
   "outputs": [
    {
     "data": {
      "text/plain": [
       "array([[[46, 47, 48, 49, 50],\n",
       "        [51, 52, 53, 54, 55]],\n",
       "\n",
       "       [[66, 67, 68, 69, 70],\n",
       "        [71, 72, 73, 74, 75]]])"
      ]
     },
     "execution_count": 6,
     "metadata": {},
     "output_type": "execute_result"
    }
   ],
   "source": [
    "#4. Access only 2nd and 3rd rows with all column of 2nd and 3rd matrix.\n",
    "arr[1:3, 1:3, 0:5]"
   ]
  },
  {
   "cell_type": "code",
   "execution_count": null,
   "id": "77e89138",
   "metadata": {},
   "outputs": [],
   "source": []
  }
 ],
 "metadata": {
  "kernelspec": {
   "display_name": "Python 3 (ipykernel)",
   "language": "python",
   "name": "python3"
  },
  "language_info": {
   "codemirror_mode": {
    "name": "ipython",
    "version": 3
   },
   "file_extension": ".py",
   "mimetype": "text/x-python",
   "name": "python",
   "nbconvert_exporter": "python",
   "pygments_lexer": "ipython3",
   "version": "3.10.4"
  }
 },
 "nbformat": 4,
 "nbformat_minor": 5
}
