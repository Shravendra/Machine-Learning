{
 "cells": [
  {
   "cell_type": "code",
   "execution_count": 1,
   "id": "da959c50",
   "metadata": {},
   "outputs": [],
   "source": [
    "import numpy\n",
    "import pandas as pd\n",
    "from scipy import stats\n",
    "import matplotlib.pyplot as plt\n",
    "# Mean : The Average Value.\n",
    "# Median : The Mid point Value.\n",
    "# Mode : The Most Common value.\n"
   ]
  },
  {
   "cell_type": "code",
   "execution_count": 2,
   "id": "f927bb3c",
   "metadata": {},
   "outputs": [],
   "source": [
    "speed = [99, 86, 87, 88, 11, 86, 103, 87, 94, 78, 77, 85, 86]\n",
    "mean = numpy.mean(speed)\n",
    "median = numpy.median(speed)\n",
    "mode = stats.mode(speed, keepdims = True)\n"
   ]
  },
  {
   "cell_type": "code",
   "execution_count": 3,
   "id": "790e7384",
   "metadata": {},
   "outputs": [
    {
     "name": "stdout",
     "output_type": "stream",
     "text": [
      "The Average speed is  82.07692307692308\n",
      "The Mid point speed is  86.0\n",
      "The Most common speed is  ModeResult(mode=array([86]), count=array([3]))\n"
     ]
    }
   ],
   "source": [
    "print('The Average speed is ', mean)\n",
    "print('The Mid point speed is ', median)\n",
    "print('The Most common speed is ', mode)"
   ]
  },
  {
   "cell_type": "code",
   "execution_count": 4,
   "id": "2ebf467d",
   "metadata": {},
   "outputs": [
    {
     "data": {
      "text/plain": [
       "21.65982292157724"
      ]
     },
     "execution_count": 4,
     "metadata": {},
     "output_type": "execute_result"
    }
   ],
   "source": [
    "# Standard Deviation : It is a number that describes how spread out the value are.\n",
    "# A low standard deviation means that most of the number are closed to the mean (average) value.\n",
    "# A high standered deviation means that the values are spread out over a wider range.\n",
    "# Standard is represented by the symbol \"Sigma\"\n",
    "x = numpy.std(speed)\n",
    "x"
   ]
  },
  {
   "cell_type": "code",
   "execution_count": 5,
   "id": "02bbb74b",
   "metadata": {},
   "outputs": [
    {
     "data": {
      "text/plain": [
       "469.14792899408286"
      ]
     },
     "execution_count": 5,
     "metadata": {},
     "output_type": "execute_result"
    }
   ],
   "source": [
    "#Variance : It is another number that indicateshow spread out the values are.\n",
    "# if we take square root ofthe variance, we get standard deviation.\n",
    "# Variance is represented by the symbol \"Sigma square\".\n",
    "\n",
    "x = numpy.var(speed)\n",
    "x"
   ]
  },
  {
   "cell_type": "code",
   "execution_count": 6,
   "id": "15483dd9",
   "metadata": {},
   "outputs": [
    {
     "data": {
      "text/plain": [
       "87.4"
      ]
     },
     "execution_count": 6,
     "metadata": {},
     "output_type": "execute_result"
    }
   ],
   "source": [
    "# Percentile() : Use for find percentile.\n",
    "\n",
    "x = numpy.percentile(speed, 70)\n",
    "x"
   ]
  },
  {
   "cell_type": "code",
   "execution_count": 7,
   "id": "fa191ab3",
   "metadata": {},
   "outputs": [
    {
     "data": {
      "image/png": "[encoded data removed]",
      "text/plain": [
       "<Figure size 432x288 with 1 Axes>"
      ]
     },
     "metadata": {
      "needs_background": "light"
     },
     "output_type": "display_data"
    }
   ],
   "source": [
    "x = numpy.random.uniform(0.0, 5.0, 250)\n",
    "plt.hist(x, 5)\n",
    "plt.show()"
   ]
  },
  {
   "cell_type": "code",
   "execution_count": 8,
   "id": "da9c598c",
   "metadata": {},
   "outputs": [
    {
     "data": {
      "image/png": "[encoded data removed]",
      "text/plain": [
       "<Figure size 432x288 with 1 Axes>"
      ]
     },
     "metadata": {
      "needs_background": "light"
     },
     "output_type": "display_data"
    }
   ],
   "source": [
    "# Create an array with 100000 random numbers, and display them using a histogram with 100 bars.\n",
    "x = numpy.random.uniform(0.0, 5.0, 100000)\n",
    "plt.hist(x, 100)\n",
    "plt.show()"
   ]
  },
  {
   "cell_type": "code",
   "execution_count": null,
   "id": "145f3fc3",
   "metadata": {},
   "outputs": [],
   "source": []
  }
 ],
 "metadata": {
  "kernelspec": {
   "display_name": "Python 3 (ipykernel)",
   "language": "python",
   "name": "python3"
  },
  "language_info": {
   "codemirror_mode": {
    "name": "ipython",
    "version": 3
   },
   "file_extension": ".py",
   "mimetype": "text/x-python",
   "name": "python",
   "nbconvert_exporter": "python",
   "pygments_lexer": "ipython3",
   "version": "3.10.4"
  }
 },
 "nbformat": 4,
 "nbformat_minor": 5
}
