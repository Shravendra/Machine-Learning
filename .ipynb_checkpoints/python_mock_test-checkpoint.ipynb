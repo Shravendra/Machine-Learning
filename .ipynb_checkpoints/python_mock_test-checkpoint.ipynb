{
 "cells": [
  {
   "cell_type": "code",
   "execution_count": 1,
   "id": "c1d05615",
   "metadata": {},
   "outputs": [],
   "source": [
    "import random"
   ]
  },
  {
   "cell_type": "code",
   "execution_count": 2,
   "id": "87d6524d",
   "metadata": {},
   "outputs": [],
   "source": [
    "questions = ['What is a dictionary?',\n",
    "            'What is set', \n",
    "            'What is the difference between list and tuple?',\n",
    "            'How will you create array in python?',\n",
    "            'What is the difference between array and list?',\n",
    "            'What is the difference between list and dictionary?',\n",
    "            'What is the difference between list and set?',\n",
    "            'What is list comprehension?',\n",
    "            'What is default parameter?',\n",
    "            'What is args?', \n",
    "            'What is kwargs (key word argument)?',\n",
    "            'What is the difference between args and kwargs?',\n",
    "            'What is lambda or lambda expression?',\n",
    "            'What is a generator?',\n",
    "            'What is a regex or regular expression?',\n",
    "            'What is the use of split() function?',\n",
    "            'What is the use of join() function?',\n",
    "            'What is decorator?',\n",
    "            'What is Object Oriented Programming language?',\n",
    "            'What is a class?',\n",
    "            'What is an object?',\n",
    "            'What is an object?',\n",
    "            'What is constructor or init()?',\n",
    "            'What is encapsulation?',\n",
    "            'What is inheritance?',\n",
    "            'What is method overriding?',\n",
    "            'What is polymorphism?',\n",
    "            'Does python support method overloading?',\n",
    "            'Can we achieve method overloading in python?',\n",
    "            'What is the use of self keyword?',\n",
    "            'What is the use of super() function',\n",
    "            'What is class variable?',\n",
    "            'What is the dif between instance variable and class variable?',\n",
    "            'What is the dif between instance method and class method?',\n",
    "            'What is dif between static method and class method?',\n",
    "            'What is the parent most class for all classes?',\n",
    "            'How will you access, members of other modules?',\n",
    "            'What all the access specifiers supported in python?',\n",
    "            'How will you create public variable in python?',\n",
    "            'How will you create private variable in python?',\n",
    "            'How will you create protected variable in python?',\n",
    "            'How to create a default variable in python?',\n",
    "            'What is an abstract method?',\n",
    "            'What is an abstract class?',\n",
    "            'When to use abstract method?',\n",
    "            'Can we create object for an abstract class?',\n",
    "            'How do you use an abstract class?',\n",
    "            'Does python support multiple inheritance of classes?',\n",
    "            'What is is ABC?',\n",
    "            'What is abc?',\n",
    "            'What is an exception?',\n",
    "            'How do you handle exceptions?',\n",
    "            'Can we have multiple except blocks for one try block?',\n",
    "            'What is finally block?',\n",
    "            'One try block can have how many finally blocks?',\n",
    "            'Is it possible to have a try block without except block?'\n",
    "             ]\n"
   ]
  },
  {
   "cell_type": "code",
   "execution_count": 9,
   "id": "5dc8e893",
   "metadata": {},
   "outputs": [
    {
     "name": "stdout",
     "output_type": "stream",
     "text": [
      "What is the use of super() function\n"
     ]
    }
   ],
   "source": [
    "random_item = random.choice(questions)\n",
    "print (random_item)"
   ]
  },
  {
   "cell_type": "code",
   "execution_count": 11,
   "id": "83912f43",
   "metadata": {},
   "outputs": [
    {
     "name": "stdout",
     "output_type": "stream",
     "text": [
      "Hi\n",
      "Hello\n"
     ]
    }
   ],
   "source": [
    "class A:\n",
    "    def m1(self):\n",
    "        print('Hi')\n",
    "        \n",
    "class B(A):\n",
    "    def m2(self):\n",
    "         print('Hello')\n",
    "         super().m1()\n",
    "\n",
    "        \n",
    "x = B()\n",
    "x.m2()\n"
   ]
  },
  {
   "cell_type": "code",
   "execution_count": null,
   "id": "27d2aa3e",
   "metadata": {},
   "outputs": [],
   "source": []
  }
 ],
 "metadata": {
  "kernelspec": {
   "display_name": "Python 3 (ipykernel)",
   "language": "python",
   "name": "python3"
  },
  "language_info": {
   "codemirror_mode": {
    "name": "ipython",
    "version": 3
   },
   "file_extension": ".py",
   "mimetype": "text/x-python",
   "name": "python",
   "nbconvert_exporter": "python",
   "pygments_lexer": "ipython3",
   "version": "3.10.4"
  }
 },
 "nbformat": 4,
 "nbformat_minor": 5
}
