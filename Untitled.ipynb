{
 "cells": [
  {
   "cell_type": "code",
   "execution_count": 1,
   "id": "2097d351",
   "metadata": {},
   "outputs": [],
   "source": [
    "import random "
   ]
  },
  {
   "cell_type": "code",
   "execution_count": 3,
   "id": "b0bea982",
   "metadata": {},
   "outputs": [
    {
     "ename": "SyntaxError",
     "evalue": "invalid syntax. Perhaps you forgot a comma? (3075462239.py, line 3)",
     "output_type": "error",
     "traceback": [
      "\u001b[1;36m  Input \u001b[1;32mIn [3]\u001b[1;36m\u001b[0m\n\u001b[1;33m    1. What is the difference between list and tuple?,\u001b[0m\n\u001b[1;37m    ^\u001b[0m\n\u001b[1;31mSyntaxError\u001b[0m\u001b[1;31m:\u001b[0m invalid syntax. Perhaps you forgot a comma?\n"
     ]
    }
   ],
   "source": [
    "n = random. random([\n",
    "    \n",
    "    1. What is the difference between list and tuple?,\n",
    "    2. What is set?,\n",
    "3. What is a dictionary?,\n",
    "4. How will you create array in python?,\n",
    "5. What is the difference between array and list?,\n",
    "6. What is the difference between list and dictionary?,\n",
    "7. What is the difference between list and set?,\n",
    "8. What is list comprehension?,\n",
    "9. What is default parameter?,\n",
    "10. What is args?,\n",
    "11. What is kwargs (key word argument)?,\n",
    "12. What is the difference between args and kwargs?,\n",
    "13. What is lambda or lambda expression?,\n",
    "14. What is a generator?,\n",
    "15. What is a regex or regular expression?,\n",
    "16. What is the use of split() function?,\n",
    "17. What is the use of join() function?,\n",
    "18. What is decorator?,\n",
    "19. What is Object Oriented Programming language?,\n",
    "20. What is a class?,\n",
    "21. What is an object?,\n",
    "22. What is constructor or init() ?,\n",
    "23. What is encapsulation?,\n",
    "24. What is inheritance?,\n",
    "25. What is method overriding?,\n",
    "26. What is polymorphism?,\n",
    "27. Does python support method overloading?,\n",
    "28. Can we achieve method overloading in python?.\n",
    "29. What is the use of self keyword?,\n",
    "30. What is the use of super() function,\n",
    "31. What is class variable?,\n",
    "32. What is the dif between instance variable and class variable?,\n",
    "33. What is the dif between instance method and class method?,\n",
    "34. What is dif between static method and class method?,\n",
    "35. What is the parent most class for all classes?,\n",
    "37. How will you access, members of other modules?,\n",
    "38. What all the access specifiers supported in python?,\n",
    "39. How will you create public variable in python?,\n",
    "40. How will you create private variable in python?,\n",
    "41. How will you create protected variable in python?,\n",
    "42. How to create a default variable in python?,\n",
    "43. What is an abstract method?,\n",
    "44. What is an abstract class?,\n",
    "45. When to use abstract method?,\n",
    "46. Can we create object for an abstract class?,\n",
    "47. How do you use an abstract class?,\n",
    "48. Does python support multiple inheritance of classes?,\n",
    "49. What is is ABC?,\n",
    "50. What is abc?,\n",
    "51. What is abstraction?,\n",
    "52. What is an exception?,\n",
    "53. How do you handle exceptions?,\n",
    "54. Can we have multiple except blocks for one try block?,\n",
    "55. What is finally block?,\n",
    "56. One try block can have how many finally blocks?,\n",
    "57. Is it possible to have a try block without except block?\n",
    "\n",
    "]) \n",
    "\n",
    "print(n)"
   ]
  },
  {
   "cell_type": "code",
   "execution_count": null,
   "id": "189ca32f",
   "metadata": {},
   "outputs": [],
   "source": []
  }
 ],
 "metadata": {
  "kernelspec": {
   "display_name": "Python 3 (ipykernel)",
   "language": "python",
   "name": "python3"
  },
  "language_info": {
   "codemirror_mode": {
    "name": "ipython",
    "version": 3
   },
   "file_extension": ".py",
   "mimetype": "text/x-python",
   "name": "python",
   "nbconvert_exporter": "python",
   "pygments_lexer": "ipython3",
   "version": "3.10.4"
  }
 },
 "nbformat": 4,
 "nbformat_minor": 5
}
