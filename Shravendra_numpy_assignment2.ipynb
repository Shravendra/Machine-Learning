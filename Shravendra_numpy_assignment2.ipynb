{
 "cells": [
  {
   "cell_type": "code",
   "execution_count": 1,
   "id": "dc7fbe16",
   "metadata": {},
   "outputs": [],
   "source": [
    "import numpy as np"
   ]
  },
  {
   "cell_type": "code",
   "execution_count": 2,
   "id": "834193de",
   "metadata": {},
   "outputs": [
    {
     "data": {
      "text/plain": [
       "array([[47, 48, 43, 48],\n",
       "       [ 6, 22, 17, 28],\n",
       "       [40, 14, 15, 19],\n",
       "       [13, 19, 35, 12],\n",
       "       [10,  4, 31, 16]])"
      ]
     },
     "execution_count": 2,
     "metadata": {},
     "output_type": "execute_result"
    }
   ],
   "source": [
    "arr = np.random.randint(1, 50, 20).reshape(5, 4)\n",
    "arr"
   ]
  },
  {
   "cell_type": "code",
   "execution_count": 3,
   "id": "5124aa25",
   "metadata": {},
   "outputs": [
    {
     "name": "stdout",
     "output_type": "stream",
     "text": [
      "[47 48 43 48]\n",
      "[ 6 22 17 28]\n",
      "[40 14 15 19]\n",
      "[13 19 35 12]\n",
      "[10  4 31 16]\n"
     ]
    }
   ],
   "source": [
    "# Apply for loop for accessing every element of the array.\n",
    "for i in arr:\n",
    "    print(i)"
   ]
  },
  {
   "cell_type": "code",
   "execution_count": 4,
   "id": "c459e146",
   "metadata": {},
   "outputs": [
    {
     "name": "stdout",
     "output_type": "stream",
     "text": [
      "9\n"
     ]
    }
   ],
   "source": [
    "# Find whether an array is having odd number or not.\n",
    "countodd = 0\n",
    "rows = len(arr)\n",
    "cols = len(arr[0])\n",
    "for i in range(0, rows):\n",
    "    for j in range(0, cols):\n",
    "        if(arr[i][j]%2 != 0):\n",
    "            countodd = countodd + 1\n",
    "print(countodd)"
   ]
  },
  {
   "cell_type": "code",
   "execution_count": 5,
   "id": "184578c3",
   "metadata": {},
   "outputs": [
    {
     "name": "stdout",
     "output_type": "stream",
     "text": [
      "[0 1 2 3 4]\n",
      "[5 6 7 8 9]\n",
      "[10 11 12 13 14]\n",
      "[15 16 17 18 19]\n"
     ]
    }
   ],
   "source": [
    "# Write a code to access 3d array by using loop.\n",
    "arr1 = np.arange(20).reshape(2, 2, 5)\n",
    "for i in range(len(arr1)):\n",
    "    for j in range(len(arr1[i])):\n",
    "        print(arr1[i][j])\n"
   ]
  },
  {
   "cell_type": "code",
   "execution_count": 6,
   "id": "75401d71",
   "metadata": {},
   "outputs": [
    {
     "name": "stdout",
     "output_type": "stream",
     "text": [
      "sum of an aaray's elements is 3\n"
     ]
    }
   ],
   "source": [
    "# Write a logic to get sum of the elements of an array.\n",
    "def _sum(arr1):\n",
    "    sum = 0\n",
    "    for i in arr1:\n",
    "        sumi = sum + 1\n",
    "    for j in arr1:\n",
    "        sumj = sum + 1\n",
    "    for k in arr1:\n",
    "        sumk = sum + 1\n",
    "    result = sumi + sumj + sumk\n",
    "    return(result)\n",
    "\n",
    "n = len(arr1)\n",
    "ans = _sum(arr1)\n",
    "print(\"sum of an aaray's elements is\", ans)\n",
    "# not getting right vlaue using this logic so used predifined function 'sum'."
   ]
  },
  {
   "cell_type": "code",
   "execution_count": 7,
   "id": "3f93c7f0",
   "metadata": {},
   "outputs": [
    {
     "data": {
      "text/plain": [
       "487"
      ]
     },
     "execution_count": 7,
     "metadata": {},
     "output_type": "execute_result"
    }
   ],
   "source": [
    "sum_of_elements = np.sum(arr)\n",
    "sum_of_elements"
   ]
  },
  {
   "cell_type": "code",
   "execution_count": null,
   "id": "67fd2dfd",
   "metadata": {},
   "outputs": [],
   "source": []
  }
 ],
 "metadata": {
  "kernelspec": {
   "display_name": "Python 3 (ipykernel)",
   "language": "python",
   "name": "python3"
  },
  "language_info": {
   "codemirror_mode": {
    "name": "ipython",
    "version": 3
   },
   "file_extension": ".py",
   "mimetype": "text/x-python",
   "name": "python",
   "nbconvert_exporter": "python",
   "pygments_lexer": "ipython3",
   "version": "3.10.4"
  }
 },
 "nbformat": 4,
 "nbformat_minor": 5
}
