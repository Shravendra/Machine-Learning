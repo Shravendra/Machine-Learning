{
 "cells": [
  {
   "cell_type": "code",
   "execution_count": 1,
   "id": "c0faef0c",
   "metadata": {},
   "outputs": [],
   "source": [
    "import matplotlib.pyplot as plt\n",
    "import numpy as np"
   ]
  },
  {
   "cell_type": "code",
   "execution_count": 7,
   "id": "a80d7d7b",
   "metadata": {},
   "outputs": [
    {
     "name": "stderr",
     "output_type": "stream",
     "text": [
      "No artists with labels found to put in legend.  Note that artists whose label start with an underscore are ignored when legend() is called with no argument.\n"
     ]
    },
    {
     "data": {
      "image/png": "[encoded data removed]",
      "text/plain": [
       "<Figure size 792x432 with 1 Axes>"
      ]
     },
     "metadata": {
      "needs_background": "light"
     },
     "output_type": "display_data"
    }
   ],
   "source": [
    "details = {\n",
    "    'C#': 46,\n",
    "    'Java' : 60,\n",
    "    'Python': 100,\n",
    "    'Testing' : 20,\n",
    "    'Cloud Computong' : 55,\n",
    "    'Android' : 70,\n",
    "    'Data Science' : 120,\n",
    "    'AWS' : 100\n",
    "    \n",
    "}\n",
    "course = list(details.keys())\n",
    "No_of_students = list(details.values())\n",
    "\n",
    "col = ['orange', 'red', 'purple', 'blue', 'cyan', 'green', 'yellow', 'brown']\n",
    "plt.figure(figsize = (11, 6)) # used to set the size of figure\n",
    "plt.bar(course, No_of_students, color = col)\n",
    "\n",
    "plt.legend(title = 'Details')\n",
    "plt.show()"
   ]
  },
  {
   "cell_type": "code",
   "execution_count": 3,
   "id": "8ca35c0e",
   "metadata": {},
   "outputs": [],
   "source": []
  }
 ],
 "metadata": {
  "kernelspec": {
   "display_name": "Python 3 (ipykernel)",
   "language": "python",
   "name": "python3"
  },
  "language_info": {
   "codemirror_mode": {
    "name": "ipython",
    "version": 3
   },
   "file_extension": ".py",
   "mimetype": "text/x-python",
   "name": "python",
   "nbconvert_exporter": "python",
   "pygments_lexer": "ipython3",
   "version": "3.10.4"
  }
 },
 "nbformat": 4,
 "nbformat_minor": 5
}
