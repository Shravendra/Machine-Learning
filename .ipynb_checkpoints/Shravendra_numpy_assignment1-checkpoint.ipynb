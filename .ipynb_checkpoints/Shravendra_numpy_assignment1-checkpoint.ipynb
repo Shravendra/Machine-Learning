{
 "cells": [
  {
   "cell_type": "code",
   "execution_count": 1,
   "id": "28d3cc66",
   "metadata": {},
   "outputs": [],
   "source": [
    "import numpy as np"
   ]
  },
  {
   "cell_type": "code",
   "execution_count": 2,
   "id": "6c8ca1f6",
   "metadata": {},
   "outputs": [
    {
     "data": {
      "text/plain": [
       "array([[ 0,  1,  2,  3],\n",
       "       [ 4,  5,  6,  7],\n",
       "       [ 8,  9, 10, 11]])"
      ]
     },
     "execution_count": 2,
     "metadata": {},
     "output_type": "execute_result"
    }
   ],
   "source": [
    "#1. Write a code to create a one's matrix which contains 3 rows and 4 columns.\n",
    "arr = np.arange(12).reshape(3, 4)\n",
    "arr"
   ]
  },
  {
   "cell_type": "code",
   "execution_count": 3,
   "id": "4bfe619b",
   "metadata": {},
   "outputs": [
    {
     "data": {
      "text/plain": [
       "array([[0., 0., 0., 0., 0.],\n",
       "       [0., 0., 0., 0., 0.],\n",
       "       [0., 0., 0., 0., 0.],\n",
       "       [0., 0., 0., 0., 0.]])"
      ]
     },
     "execution_count": 3,
     "metadata": {},
     "output_type": "execute_result"
    }
   ],
   "source": [
    "#2. Write a code to create 4*5 zero matrix.\n",
    "arr1 = np.zeros((4, 5))\n",
    "arr1"
   ]
  },
  {
   "cell_type": "code",
   "execution_count": 13,
   "id": "fa4cff74",
   "metadata": {},
   "outputs": [
    {
     "ename": "TypeError",
     "evalue": "ufunc 'isnan' not supported for the input types, and the inputs could not be safely coerced to any supported types according to the casting rule ''safe''",
     "output_type": "error",
     "traceback": [
      "\u001b[1;31m---------------------------------------------------------------------------\u001b[0m",
      "\u001b[1;31mTypeError\u001b[0m                                 Traceback (most recent call last)",
      "Input \u001b[1;32mIn [13]\u001b[0m, in \u001b[0;36m<cell line: 3>\u001b[1;34m()\u001b[0m\n\u001b[0;32m      1\u001b[0m \u001b[38;5;66;03m#3. Write a code to check whether array that contains non numeric value.\u001b[39;00m\n\u001b[0;32m      2\u001b[0m arr3 \u001b[38;5;241m=\u001b[39m np\u001b[38;5;241m.\u001b[39marray([\u001b[38;5;124m'\u001b[39m\u001b[38;5;124mNAN\u001b[39m\u001b[38;5;124m'\u001b[39m, \u001b[38;5;241m2\u001b[39m, \u001b[38;5;241m3\u001b[39m, \u001b[38;5;241m4\u001b[39m])\n\u001b[1;32m----> 3\u001b[0m array_has_nan \u001b[38;5;241m=\u001b[39m \u001b[43mnp\u001b[49m\u001b[38;5;241;43m.\u001b[39;49m\u001b[43misnan\u001b[49m\u001b[43m(\u001b[49m\u001b[43marr3\u001b[49m\u001b[43m)\u001b[49m\u001b[38;5;241m.\u001b[39many()\n\u001b[0;32m      4\u001b[0m array_has_nan\n",
      "\u001b[1;31mTypeError\u001b[0m: ufunc 'isnan' not supported for the input types, and the inputs could not be safely coerced to any supported types according to the casting rule ''safe''"
     ]
    }
   ],
   "source": [
    "#3. Write a code to check whether array that contains non numeric value.\n",
    "arr3 = np.array([1, 2, 3, 4])\n",
    "array_has_nan = np.isnan(arr3).any()\n",
    "array_has_nan"
   ]
  },
  {
   "cell_type": "code",
   "execution_count": 5,
   "id": "566d8611",
   "metadata": {},
   "outputs": [
    {
     "data": {
      "text/plain": [
       "array([9, 8, 6, 5, 2])"
      ]
     },
     "execution_count": 5,
     "metadata": {},
     "output_type": "execute_result"
    }
   ],
   "source": [
    "#4. Write a code to reverse numpy array.\n",
    "arr4 = np.array([2, 5, 6, 8, 9])\n",
    "rev = np.flip(arr4)\n",
    "rev"
   ]
  },
  {
   "cell_type": "code",
   "execution_count": 6,
   "id": "3c813ee4",
   "metadata": {},
   "outputs": [
    {
     "name": "stdout",
     "output_type": "stream",
     "text": [
      "Addition of array =  [[ 2  3  4]\n",
      " [ 5  6  7]\n",
      " [ 8  9 10]]\n",
      "Substraction of array =  [[-2 -1  0]\n",
      " [ 1  2  3]\n",
      " [ 4  5  6]]\n",
      "Multiplication of array=  [[ 0  2  4]\n",
      " [ 6  8 10]\n",
      " [12 14 16]]\n",
      "Division of array=  [[0.  0.5 1. ]\n",
      " [1.5 2.  2.5]\n",
      " [3.  3.5 4. ]]\n"
     ]
    }
   ],
   "source": [
    "#5. create 3 * 3 2d array and perform an scalar operation on that.\n",
    "arr5 = np.arange(9).reshape(3, 3)\n",
    "print('Addition of array = ', arr5 + 2)\n",
    "print('Substraction of array = ', arr5 - 2)\n",
    "print('Multiplication of array= ', arr5 * 2)\n",
    "print('Division of array= ', arr5 / 2)\n"
   ]
  },
  {
   "cell_type": "code",
   "execution_count": 7,
   "id": "e4a7a7a3",
   "metadata": {},
   "outputs": [
    {
     "data": {
      "text/plain": [
       "array([[[ 0,  1],\n",
       "        [ 2,  3]],\n",
       "\n",
       "       [[ 4,  5],\n",
       "        [ 6,  7]],\n",
       "\n",
       "       [[ 8,  9],\n",
       "        [10, 11]],\n",
       "\n",
       "       [[12, 13],\n",
       "        [14, 15]]])"
      ]
     },
     "execution_count": 7,
     "metadata": {},
     "output_type": "execute_result"
    }
   ],
   "source": [
    "#6.create 2*2 2d array which contains four 2d array in it.\n",
    "arr6 = np.arange(16).reshape(4, 2, 2)\n",
    "arr6"
   ]
  },
  {
   "cell_type": "code",
   "execution_count": 8,
   "id": "5750751c",
   "metadata": {},
   "outputs": [
    {
     "data": {
      "text/plain": [
       "array([[12, 13, 23, 48,  5],\n",
       "       [39, 42, 19,  1, 29],\n",
       "       [ 9, 19, 44, 37, 32],\n",
       "       [28, 10, 37, 46, 33],\n",
       "       [28, 13, 34,  3, 11]])"
      ]
     },
     "execution_count": 8,
     "metadata": {},
     "output_type": "execute_result"
    }
   ],
   "source": [
    "#7. Create a 5*5 2d array or random numbers.\n",
    "arr7 = np.random.randint(1, 50, 25).reshape(5, 5)\n",
    "arr7"
   ]
  },
  {
   "cell_type": "code",
   "execution_count": 9,
   "id": "21eeef58",
   "metadata": {},
   "outputs": [
    {
     "name": "stdout",
     "output_type": "stream",
     "text": [
      "Minimum value of array is  1\n",
      "Maximum value of array is  48\n"
     ]
    }
   ],
   "source": [
    "#and find max. value and min. value, \n",
    "min_val = np.min(arr7)\n",
    "max_val = np.max(arr7)\n",
    "print('Minimum value of array is ', min_val)\n",
    "print('Maximum value of array is ', max_val)"
   ]
  },
  {
   "cell_type": "code",
   "execution_count": 10,
   "id": "9cdb1708",
   "metadata": {},
   "outputs": [
    {
     "name": "stdout",
     "output_type": "stream",
     "text": [
      "Index postion od Min. Value Element is  (array([0], dtype=int64), array([1], dtype=int64))\n",
      "Index postion od Max. Value Element is  (array([], dtype=int64), array([], dtype=int64))\n",
      "Index postion od Median Value Element is  (array([], dtype=int64), array([], dtype=int64))\n"
     ]
    }
   ],
   "source": [
    "#index postion of min. number and median value.\n",
    "min_result = np.where(arr == np.amin(arr7))\n",
    "max_result = np.where(arr == np.amax(arr7))\n",
    "mid_result = np.where(arr == np.median(arr7))\n",
    "print('Index postion od Min. Value Element is ', min_result)\n",
    "print('Index postion od Max. Value Element is ', max_result)\n",
    "print('Index postion od Median Value Element is ', mid_result)"
   ]
  },
  {
   "cell_type": "code",
   "execution_count": 11,
   "id": "119f16d7",
   "metadata": {},
   "outputs": [
    {
     "data": {
      "text/plain": [
       "False"
      ]
     },
     "execution_count": 11,
     "metadata": {},
     "output_type": "execute_result"
    }
   ],
   "source": [
    "#8. Write a numpy program compare two given arrays.\n",
    "#array a:[1 2]\n",
    "#array b:[4 5]\n",
    "\n",
    "a = [1, 2]\n",
    "b = [4, 5]\n",
    "result = np.array_equal(a, b)\n",
    "result"
   ]
  },
  {
   "cell_type": "markdown",
   "id": "2c9eab44",
   "metadata": {},
   "source": []
  }
 ],
 "metadata": {
  "kernelspec": {
   "display_name": "Python 3 (ipykernel)",
   "language": "python",
   "name": "python3"
  },
  "language_info": {
   "codemirror_mode": {
    "name": "ipython",
    "version": 3
   },
   "file_extension": ".py",
   "mimetype": "text/x-python",
   "name": "python",
   "nbconvert_exporter": "python",
   "pygments_lexer": "ipython3",
   "version": "3.10.4"
  }
 },
 "nbformat": 4,
 "nbformat_minor": 5
}
